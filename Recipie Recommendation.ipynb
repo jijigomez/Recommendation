{
 "cells": [
  {
   "cell_type": "code",
   "execution_count": 1,
   "id": "186aa017",
   "metadata": {},
   "outputs": [],
   "source": [
    "import pandas as pd\n",
    "import numpy as np\n",
    "import json"
   ]
  },
  {
   "cell_type": "code",
   "execution_count": 2,
   "id": "b74558f5",
   "metadata": {},
   "outputs": [],
   "source": [
    "data = pd.read_csv(\"Food Ingredients and Recipe Dataset with Image Name Mapping.csv\")"
   ]
  },
  {
   "cell_type": "code",
   "execution_count": 3,
   "id": "2d3bcb40",
   "metadata": {},
   "outputs": [
    {
     "data": {
      "text/html": [
       "<div>\n",
       "<style scoped>\n",
       "    .dataframe tbody tr th:only-of-type {\n",
       "        vertical-align: middle;\n",
       "    }\n",
       "\n",
       "    .dataframe tbody tr th {\n",
       "        vertical-align: top;\n",
       "    }\n",
       "\n",
       "    .dataframe thead th {\n",
       "        text-align: right;\n",
       "    }\n",
       "</style>\n",
       "<table border=\"1\" class=\"dataframe\">\n",
       "  <thead>\n",
       "    <tr style=\"text-align: right;\">\n",
       "      <th></th>\n",
       "      <th>Unnamed: 0</th>\n",
       "      <th>Title</th>\n",
       "      <th>Ingredients</th>\n",
       "      <th>Instructions</th>\n",
       "      <th>Image_Name</th>\n",
       "      <th>Cleaned_Ingredients</th>\n",
       "    </tr>\n",
       "  </thead>\n",
       "  <tbody>\n",
       "    <tr>\n",
       "      <th>0</th>\n",
       "      <td>0</td>\n",
       "      <td>Miso-Butter Roast Chicken With Acorn Squash Pa...</td>\n",
       "      <td>['1 (3½–4-lb.) whole chicken', '2¾ tsp. kosher...</td>\n",
       "      <td>Pat chicken dry with paper towels, season all ...</td>\n",
       "      <td>miso-butter-roast-chicken-acorn-squash-panzanella</td>\n",
       "      <td>['1 (3½–4-lb.) whole chicken', '2¾ tsp. kosher...</td>\n",
       "    </tr>\n",
       "    <tr>\n",
       "      <th>1</th>\n",
       "      <td>1</td>\n",
       "      <td>Crispy Salt and Pepper Potatoes</td>\n",
       "      <td>['2 large egg whites', '1 pound new potatoes (...</td>\n",
       "      <td>Preheat oven to 400°F and line a rimmed baking...</td>\n",
       "      <td>crispy-salt-and-pepper-potatoes-dan-kluger</td>\n",
       "      <td>['2 large egg whites', '1 pound new potatoes (...</td>\n",
       "    </tr>\n",
       "    <tr>\n",
       "      <th>2</th>\n",
       "      <td>2</td>\n",
       "      <td>Thanksgiving Mac and Cheese</td>\n",
       "      <td>['1 cup evaporated milk', '1 cup whole milk', ...</td>\n",
       "      <td>Place a rack in middle of oven; preheat to 400...</td>\n",
       "      <td>thanksgiving-mac-and-cheese-erick-williams</td>\n",
       "      <td>['1 cup evaporated milk', '1 cup whole milk', ...</td>\n",
       "    </tr>\n",
       "    <tr>\n",
       "      <th>3</th>\n",
       "      <td>3</td>\n",
       "      <td>Italian Sausage and Bread Stuffing</td>\n",
       "      <td>['1 (¾- to 1-pound) round Italian loaf, cut in...</td>\n",
       "      <td>Preheat oven to 350°F with rack in middle. Gen...</td>\n",
       "      <td>italian-sausage-and-bread-stuffing-240559</td>\n",
       "      <td>['1 (¾- to 1-pound) round Italian loaf, cut in...</td>\n",
       "    </tr>\n",
       "    <tr>\n",
       "      <th>4</th>\n",
       "      <td>4</td>\n",
       "      <td>Newton's Law</td>\n",
       "      <td>['1 teaspoon dark brown sugar', '1 teaspoon ho...</td>\n",
       "      <td>Stir together brown sugar and hot water in a c...</td>\n",
       "      <td>newtons-law-apple-bourbon-cocktail</td>\n",
       "      <td>['1 teaspoon dark brown sugar', '1 teaspoon ho...</td>\n",
       "    </tr>\n",
       "  </tbody>\n",
       "</table>\n",
       "</div>"
      ],
      "text/plain": [
       "   Unnamed: 0                                              Title  \\\n",
       "0           0  Miso-Butter Roast Chicken With Acorn Squash Pa...   \n",
       "1           1                    Crispy Salt and Pepper Potatoes   \n",
       "2           2                        Thanksgiving Mac and Cheese   \n",
       "3           3                 Italian Sausage and Bread Stuffing   \n",
       "4           4                                       Newton's Law   \n",
       "\n",
       "                                         Ingredients  \\\n",
       "0  ['1 (3½–4-lb.) whole chicken', '2¾ tsp. kosher...   \n",
       "1  ['2 large egg whites', '1 pound new potatoes (...   \n",
       "2  ['1 cup evaporated milk', '1 cup whole milk', ...   \n",
       "3  ['1 (¾- to 1-pound) round Italian loaf, cut in...   \n",
       "4  ['1 teaspoon dark brown sugar', '1 teaspoon ho...   \n",
       "\n",
       "                                        Instructions  \\\n",
       "0  Pat chicken dry with paper towels, season all ...   \n",
       "1  Preheat oven to 400°F and line a rimmed baking...   \n",
       "2  Place a rack in middle of oven; preheat to 400...   \n",
       "3  Preheat oven to 350°F with rack in middle. Gen...   \n",
       "4  Stir together brown sugar and hot water in a c...   \n",
       "\n",
       "                                          Image_Name  \\\n",
       "0  miso-butter-roast-chicken-acorn-squash-panzanella   \n",
       "1         crispy-salt-and-pepper-potatoes-dan-kluger   \n",
       "2         thanksgiving-mac-and-cheese-erick-williams   \n",
       "3          italian-sausage-and-bread-stuffing-240559   \n",
       "4                 newtons-law-apple-bourbon-cocktail   \n",
       "\n",
       "                                 Cleaned_Ingredients  \n",
       "0  ['1 (3½–4-lb.) whole chicken', '2¾ tsp. kosher...  \n",
       "1  ['2 large egg whites', '1 pound new potatoes (...  \n",
       "2  ['1 cup evaporated milk', '1 cup whole milk', ...  \n",
       "3  ['1 (¾- to 1-pound) round Italian loaf, cut in...  \n",
       "4  ['1 teaspoon dark brown sugar', '1 teaspoon ho...  "
      ]
     },
     "execution_count": 3,
     "metadata": {},
     "output_type": "execute_result"
    }
   ],
   "source": [
    "data.head()"
   ]
  },
  {
   "cell_type": "code",
   "execution_count": 4,
   "id": "7d8892c4",
   "metadata": {},
   "outputs": [],
   "source": [
    "data.drop('Unnamed: 0', inplace=True, axis=1)"
   ]
  },
  {
   "cell_type": "code",
   "execution_count": 5,
   "id": "46587b58",
   "metadata": {},
   "outputs": [
    {
     "data": {
      "text/html": [
       "<div>\n",
       "<style scoped>\n",
       "    .dataframe tbody tr th:only-of-type {\n",
       "        vertical-align: middle;\n",
       "    }\n",
       "\n",
       "    .dataframe tbody tr th {\n",
       "        vertical-align: top;\n",
       "    }\n",
       "\n",
       "    .dataframe thead th {\n",
       "        text-align: right;\n",
       "    }\n",
       "</style>\n",
       "<table border=\"1\" class=\"dataframe\">\n",
       "  <thead>\n",
       "    <tr style=\"text-align: right;\">\n",
       "      <th></th>\n",
       "      <th>Title</th>\n",
       "      <th>Ingredients</th>\n",
       "      <th>Instructions</th>\n",
       "      <th>Image_Name</th>\n",
       "      <th>Cleaned_Ingredients</th>\n",
       "    </tr>\n",
       "  </thead>\n",
       "  <tbody>\n",
       "    <tr>\n",
       "      <th>0</th>\n",
       "      <td>Miso-Butter Roast Chicken With Acorn Squash Pa...</td>\n",
       "      <td>['1 (3½–4-lb.) whole chicken', '2¾ tsp. kosher...</td>\n",
       "      <td>Pat chicken dry with paper towels, season all ...</td>\n",
       "      <td>miso-butter-roast-chicken-acorn-squash-panzanella</td>\n",
       "      <td>['1 (3½–4-lb.) whole chicken', '2¾ tsp. kosher...</td>\n",
       "    </tr>\n",
       "    <tr>\n",
       "      <th>1</th>\n",
       "      <td>Crispy Salt and Pepper Potatoes</td>\n",
       "      <td>['2 large egg whites', '1 pound new potatoes (...</td>\n",
       "      <td>Preheat oven to 400°F and line a rimmed baking...</td>\n",
       "      <td>crispy-salt-and-pepper-potatoes-dan-kluger</td>\n",
       "      <td>['2 large egg whites', '1 pound new potatoes (...</td>\n",
       "    </tr>\n",
       "    <tr>\n",
       "      <th>2</th>\n",
       "      <td>Thanksgiving Mac and Cheese</td>\n",
       "      <td>['1 cup evaporated milk', '1 cup whole milk', ...</td>\n",
       "      <td>Place a rack in middle of oven; preheat to 400...</td>\n",
       "      <td>thanksgiving-mac-and-cheese-erick-williams</td>\n",
       "      <td>['1 cup evaporated milk', '1 cup whole milk', ...</td>\n",
       "    </tr>\n",
       "    <tr>\n",
       "      <th>3</th>\n",
       "      <td>Italian Sausage and Bread Stuffing</td>\n",
       "      <td>['1 (¾- to 1-pound) round Italian loaf, cut in...</td>\n",
       "      <td>Preheat oven to 350°F with rack in middle. Gen...</td>\n",
       "      <td>italian-sausage-and-bread-stuffing-240559</td>\n",
       "      <td>['1 (¾- to 1-pound) round Italian loaf, cut in...</td>\n",
       "    </tr>\n",
       "    <tr>\n",
       "      <th>4</th>\n",
       "      <td>Newton's Law</td>\n",
       "      <td>['1 teaspoon dark brown sugar', '1 teaspoon ho...</td>\n",
       "      <td>Stir together brown sugar and hot water in a c...</td>\n",
       "      <td>newtons-law-apple-bourbon-cocktail</td>\n",
       "      <td>['1 teaspoon dark brown sugar', '1 teaspoon ho...</td>\n",
       "    </tr>\n",
       "  </tbody>\n",
       "</table>\n",
       "</div>"
      ],
      "text/plain": [
       "                                               Title  \\\n",
       "0  Miso-Butter Roast Chicken With Acorn Squash Pa...   \n",
       "1                    Crispy Salt and Pepper Potatoes   \n",
       "2                        Thanksgiving Mac and Cheese   \n",
       "3                 Italian Sausage and Bread Stuffing   \n",
       "4                                       Newton's Law   \n",
       "\n",
       "                                         Ingredients  \\\n",
       "0  ['1 (3½–4-lb.) whole chicken', '2¾ tsp. kosher...   \n",
       "1  ['2 large egg whites', '1 pound new potatoes (...   \n",
       "2  ['1 cup evaporated milk', '1 cup whole milk', ...   \n",
       "3  ['1 (¾- to 1-pound) round Italian loaf, cut in...   \n",
       "4  ['1 teaspoon dark brown sugar', '1 teaspoon ho...   \n",
       "\n",
       "                                        Instructions  \\\n",
       "0  Pat chicken dry with paper towels, season all ...   \n",
       "1  Preheat oven to 400°F and line a rimmed baking...   \n",
       "2  Place a rack in middle of oven; preheat to 400...   \n",
       "3  Preheat oven to 350°F with rack in middle. Gen...   \n",
       "4  Stir together brown sugar and hot water in a c...   \n",
       "\n",
       "                                          Image_Name  \\\n",
       "0  miso-butter-roast-chicken-acorn-squash-panzanella   \n",
       "1         crispy-salt-and-pepper-potatoes-dan-kluger   \n",
       "2         thanksgiving-mac-and-cheese-erick-williams   \n",
       "3          italian-sausage-and-bread-stuffing-240559   \n",
       "4                 newtons-law-apple-bourbon-cocktail   \n",
       "\n",
       "                                 Cleaned_Ingredients  \n",
       "0  ['1 (3½–4-lb.) whole chicken', '2¾ tsp. kosher...  \n",
       "1  ['2 large egg whites', '1 pound new potatoes (...  \n",
       "2  ['1 cup evaporated milk', '1 cup whole milk', ...  \n",
       "3  ['1 (¾- to 1-pound) round Italian loaf, cut in...  \n",
       "4  ['1 teaspoon dark brown sugar', '1 teaspoon ho...  "
      ]
     },
     "execution_count": 5,
     "metadata": {},
     "output_type": "execute_result"
    }
   ],
   "source": [
    "data.head()"
   ]
  },
  {
   "cell_type": "code",
   "execution_count": 6,
   "id": "747c74c8",
   "metadata": {},
   "outputs": [
    {
     "data": {
      "text/plain": [
       "(13501, 5)"
      ]
     },
     "execution_count": 6,
     "metadata": {},
     "output_type": "execute_result"
    }
   ],
   "source": [
    "data.shape"
   ]
  },
  {
   "cell_type": "code",
   "execution_count": 7,
   "id": "68b1a053",
   "metadata": {},
   "outputs": [
    {
     "name": "stdout",
     "output_type": "stream",
     "text": [
      "<class 'pandas.core.frame.DataFrame'>\n",
      "RangeIndex: 13501 entries, 0 to 13500\n",
      "Data columns (total 5 columns):\n",
      " #   Column               Non-Null Count  Dtype \n",
      "---  ------               --------------  ----- \n",
      " 0   Title                13496 non-null  object\n",
      " 1   Ingredients          13501 non-null  object\n",
      " 2   Instructions         13493 non-null  object\n",
      " 3   Image_Name           13501 non-null  object\n",
      " 4   Cleaned_Ingredients  13501 non-null  object\n",
      "dtypes: object(5)\n",
      "memory usage: 527.5+ KB\n"
     ]
    }
   ],
   "source": [
    "data.info()"
   ]
  },
  {
   "cell_type": "code",
   "execution_count": 8,
   "id": "2ba78b4c",
   "metadata": {},
   "outputs": [
    {
     "data": {
      "text/plain": [
       "Title                  5\n",
       "Ingredients            0\n",
       "Instructions           8\n",
       "Image_Name             0\n",
       "Cleaned_Ingredients    0\n",
       "dtype: int64"
      ]
     },
     "execution_count": 8,
     "metadata": {},
     "output_type": "execute_result"
    }
   ],
   "source": [
    "data.isna().sum()"
   ]
  },
  {
   "cell_type": "code",
   "execution_count": 9,
   "id": "b028f62c",
   "metadata": {},
   "outputs": [],
   "source": [
    "data.dropna(inplace=True)"
   ]
  },
  {
   "cell_type": "code",
   "execution_count": 10,
   "id": "9c4592f0",
   "metadata": {},
   "outputs": [
    {
     "data": {
      "text/plain": [
       "Title                  0\n",
       "Ingredients            0\n",
       "Instructions           0\n",
       "Image_Name             0\n",
       "Cleaned_Ingredients    0\n",
       "dtype: int64"
      ]
     },
     "execution_count": 10,
     "metadata": {},
     "output_type": "execute_result"
    }
   ],
   "source": [
    "data.isna().sum()"
   ]
  },
  {
   "cell_type": "code",
   "execution_count": 11,
   "id": "7ba3a4aa",
   "metadata": {},
   "outputs": [
    {
     "data": {
      "text/html": [
       "<div>\n",
       "<style scoped>\n",
       "    .dataframe tbody tr th:only-of-type {\n",
       "        vertical-align: middle;\n",
       "    }\n",
       "\n",
       "    .dataframe tbody tr th {\n",
       "        vertical-align: top;\n",
       "    }\n",
       "\n",
       "    .dataframe thead th {\n",
       "        text-align: right;\n",
       "    }\n",
       "</style>\n",
       "<table border=\"1\" class=\"dataframe\">\n",
       "  <thead>\n",
       "    <tr style=\"text-align: right;\">\n",
       "      <th></th>\n",
       "      <th>Title</th>\n",
       "      <th>Ingredients</th>\n",
       "      <th>Instructions</th>\n",
       "      <th>Image_Name</th>\n",
       "      <th>Cleaned_Ingredients</th>\n",
       "    </tr>\n",
       "  </thead>\n",
       "  <tbody>\n",
       "    <tr>\n",
       "      <th>0</th>\n",
       "      <td>Miso-Butter Roast Chicken With Acorn Squash Pa...</td>\n",
       "      <td>['1 (3½–4-lb.) whole chicken', '2¾ tsp. kosher...</td>\n",
       "      <td>Pat chicken dry with paper towels, season all ...</td>\n",
       "      <td>miso-butter-roast-chicken-acorn-squash-panzanella</td>\n",
       "      <td>['1 (3½–4-lb.) whole chicken', '2¾ tsp. kosher...</td>\n",
       "    </tr>\n",
       "    <tr>\n",
       "      <th>1</th>\n",
       "      <td>Crispy Salt and Pepper Potatoes</td>\n",
       "      <td>['2 large egg whites', '1 pound new potatoes (...</td>\n",
       "      <td>Preheat oven to 400°F and line a rimmed baking...</td>\n",
       "      <td>crispy-salt-and-pepper-potatoes-dan-kluger</td>\n",
       "      <td>['2 large egg whites', '1 pound new potatoes (...</td>\n",
       "    </tr>\n",
       "    <tr>\n",
       "      <th>2</th>\n",
       "      <td>Thanksgiving Mac and Cheese</td>\n",
       "      <td>['1 cup evaporated milk', '1 cup whole milk', ...</td>\n",
       "      <td>Place a rack in middle of oven; preheat to 400...</td>\n",
       "      <td>thanksgiving-mac-and-cheese-erick-williams</td>\n",
       "      <td>['1 cup evaporated milk', '1 cup whole milk', ...</td>\n",
       "    </tr>\n",
       "    <tr>\n",
       "      <th>3</th>\n",
       "      <td>Italian Sausage and Bread Stuffing</td>\n",
       "      <td>['1 (¾- to 1-pound) round Italian loaf, cut in...</td>\n",
       "      <td>Preheat oven to 350°F with rack in middle. Gen...</td>\n",
       "      <td>italian-sausage-and-bread-stuffing-240559</td>\n",
       "      <td>['1 (¾- to 1-pound) round Italian loaf, cut in...</td>\n",
       "    </tr>\n",
       "    <tr>\n",
       "      <th>4</th>\n",
       "      <td>Newton's Law</td>\n",
       "      <td>['1 teaspoon dark brown sugar', '1 teaspoon ho...</td>\n",
       "      <td>Stir together brown sugar and hot water in a c...</td>\n",
       "      <td>newtons-law-apple-bourbon-cocktail</td>\n",
       "      <td>['1 teaspoon dark brown sugar', '1 teaspoon ho...</td>\n",
       "    </tr>\n",
       "  </tbody>\n",
       "</table>\n",
       "</div>"
      ],
      "text/plain": [
       "                                               Title  \\\n",
       "0  Miso-Butter Roast Chicken With Acorn Squash Pa...   \n",
       "1                    Crispy Salt and Pepper Potatoes   \n",
       "2                        Thanksgiving Mac and Cheese   \n",
       "3                 Italian Sausage and Bread Stuffing   \n",
       "4                                       Newton's Law   \n",
       "\n",
       "                                         Ingredients  \\\n",
       "0  ['1 (3½–4-lb.) whole chicken', '2¾ tsp. kosher...   \n",
       "1  ['2 large egg whites', '1 pound new potatoes (...   \n",
       "2  ['1 cup evaporated milk', '1 cup whole milk', ...   \n",
       "3  ['1 (¾- to 1-pound) round Italian loaf, cut in...   \n",
       "4  ['1 teaspoon dark brown sugar', '1 teaspoon ho...   \n",
       "\n",
       "                                        Instructions  \\\n",
       "0  Pat chicken dry with paper towels, season all ...   \n",
       "1  Preheat oven to 400°F and line a rimmed baking...   \n",
       "2  Place a rack in middle of oven; preheat to 400...   \n",
       "3  Preheat oven to 350°F with rack in middle. Gen...   \n",
       "4  Stir together brown sugar and hot water in a c...   \n",
       "\n",
       "                                          Image_Name  \\\n",
       "0  miso-butter-roast-chicken-acorn-squash-panzanella   \n",
       "1         crispy-salt-and-pepper-potatoes-dan-kluger   \n",
       "2         thanksgiving-mac-and-cheese-erick-williams   \n",
       "3          italian-sausage-and-bread-stuffing-240559   \n",
       "4                 newtons-law-apple-bourbon-cocktail   \n",
       "\n",
       "                                 Cleaned_Ingredients  \n",
       "0  ['1 (3½–4-lb.) whole chicken', '2¾ tsp. kosher...  \n",
       "1  ['2 large egg whites', '1 pound new potatoes (...  \n",
       "2  ['1 cup evaporated milk', '1 cup whole milk', ...  \n",
       "3  ['1 (¾- to 1-pound) round Italian loaf, cut in...  \n",
       "4  ['1 teaspoon dark brown sugar', '1 teaspoon ho...  "
      ]
     },
     "execution_count": 11,
     "metadata": {},
     "output_type": "execute_result"
    }
   ],
   "source": [
    "data.head()"
   ]
  },
  {
   "cell_type": "code",
   "execution_count": 12,
   "id": "61c1d638",
   "metadata": {},
   "outputs": [
    {
     "data": {
      "text/plain": [
       "'Miso-Butter Roast Chicken With Acorn Squash Panzanella'"
      ]
     },
     "execution_count": 12,
     "metadata": {},
     "output_type": "execute_result"
    }
   ],
   "source": [
    "data[\"Title\"][0]"
   ]
  },
  {
   "cell_type": "code",
   "execution_count": 13,
   "id": "37b2a68a",
   "metadata": {},
   "outputs": [
    {
     "data": {
      "text/plain": [
       "'[\\'1 (3½–4-lb.) whole chicken\\', \\'2¾ tsp. kosher salt, divided, plus more\\', \\'2 small acorn squash (about 3 lb. total)\\', \\'2 Tbsp. finely chopped sage\\', \\'1 Tbsp. finely chopped rosemary\\', \\'6 Tbsp. unsalted butter, melted, plus 3 Tbsp. room temperature\\', \\'¼ tsp. ground allspice\\', \\'Pinch of crushed red pepper flakes\\', \\'Freshly ground black pepper\\', \\'⅓ loaf good-quality sturdy white bread, torn into 1\" pieces (about 2½ cups)\\', \\'2 medium apples (such as Gala or Pink Lady; about 14 oz. total), cored, cut into 1\" pieces\\', \\'2 Tbsp. extra-virgin olive oil\\', \\'½ small red onion, thinly sliced\\', \\'3 Tbsp. apple cider vinegar\\', \\'1 Tbsp. white miso\\', \\'¼ cup all-purpose flour\\', \\'2 Tbsp. unsalted butter, room temperature\\', \\'¼ cup dry white wine\\', \\'2 cups unsalted chicken broth\\', \\'2 tsp. white miso\\', \\'Kosher salt, freshly ground pepper\\']'"
      ]
     },
     "execution_count": 13,
     "metadata": {},
     "output_type": "execute_result"
    }
   ],
   "source": [
    "data[\"Ingredients\"][0]"
   ]
  },
  {
   "cell_type": "code",
   "execution_count": 49,
   "id": "a83b2b3f",
   "metadata": {},
   "outputs": [
    {
     "data": {
      "text/plain": [
       "'[\\'1 (3½–4-lb.) whole chicken\\', \\'2¾ tsp. kosher salt, divided, plus more\\', \\'2 small acorn squash (about 3 lb. total)\\', \\'2 Tbsp. finely chopped sage\\', \\'1 Tbsp. finely chopped rosemary\\', \\'6 Tbsp. unsalted butter, melted, plus 3 Tbsp. room temperature\\', \\'¼ tsp. ground allspice\\', \\'Pinch of crushed red pepper flakes\\', \\'Freshly ground black pepper\\', \\'⅓ loaf good-quality sturdy white bread, torn into 1\" pieces (about 2½ cups)\\', \\'2 medium apples (such as Gala or Pink Lady; about 14 oz. total), cored, cut into 1\" pieces\\', \\'2 Tbsp. extra-virgin olive oil\\', \\'½ small red onion, thinly sliced\\', \\'3 Tbsp. apple cider vinegar\\', \\'1 Tbsp. white miso\\', \\'¼ cup all-purpose flour\\', \\'2 Tbsp. unsalted butter, room temperature\\', \\'¼ cup dry white wine\\', \\'2 cups unsalted chicken broth\\', \\'2 tsp. white miso\\', \\'Kosher salt\\', \\'freshly ground pepper\\']'"
      ]
     },
     "execution_count": 49,
     "metadata": {},
     "output_type": "execute_result"
    }
   ],
   "source": [
    "data[\"Cleaned_Ingredients\"][0]"
   ]
  },
  {
   "cell_type": "code",
   "execution_count": 15,
   "id": "759ec235",
   "metadata": {},
   "outputs": [
    {
     "data": {
      "text/plain": [
       "13493"
      ]
     },
     "execution_count": 15,
     "metadata": {},
     "output_type": "execute_result"
    }
   ],
   "source": [
    "len(data)"
   ]
  },
  {
   "cell_type": "code",
   "execution_count": 14,
   "id": "12056e60",
   "metadata": {},
   "outputs": [
    {
     "data": {
      "text/plain": [
       "str"
      ]
     },
     "execution_count": 14,
     "metadata": {},
     "output_type": "execute_result"
    }
   ],
   "source": [
    "type(data[\"Ingredients\"][0])"
   ]
  },
  {
   "cell_type": "code",
   "execution_count": 16,
   "id": "5267f59b-4a25-4cd4-a4c4-241c2190419a",
   "metadata": {},
   "outputs": [
    {
     "name": "stderr",
     "output_type": "stream",
     "text": [
      "[nltk_data] Downloading package punkt to\n",
      "[nltk_data]     C:\\Users\\PYTHON\\AppData\\Roaming\\nltk_data...\n",
      "[nltk_data]   Unzipping tokenizers\\punkt.zip.\n"
     ]
    },
    {
     "data": {
      "text/plain": [
       "True"
      ]
     },
     "execution_count": 16,
     "metadata": {},
     "output_type": "execute_result"
    }
   ],
   "source": [
    "import nltk\n",
    "nltk.download('punkt')"
   ]
  },
  {
   "cell_type": "code",
   "execution_count": 17,
   "id": "9ea5c5f6",
   "metadata": {},
   "outputs": [
    {
     "name": "stdout",
     "output_type": "stream",
     "text": [
      "whole chicken , kosher salt , divided , plus more , small acorn squash about , finely chopped sage , finely chopped rosemary , unsalted butter , melted , plus room temperature , ground allspice , pinch of crushed red pepper flakes , freshly ground black pepper , loaf goodquality sturdy white bread , torn into pieces about , medium apples such as gala or pink lady about , cored , cut into pieces , extravirgin olive oil , small red onion , thinly sliced , apple cider vinegar , white miso , allpurpose flour , unsalted butter , room temperature , dry white wine , unsalted chicken broth , white miso , kosher salt , freshly ground pepper\n"
     ]
    }
   ],
   "source": [
    "import re\n",
    "from nltk.tokenize import word_tokenize\n",
    "\n",
    "def clean_text(text):\n",
    "    # Lowercase the text\n",
    "    text = text.lower()\n",
    "    \n",
    "    # Remove special characters, numbers, specific units (excluding commas)\n",
    "    text = re.sub(r'[^a-zA-Z\\s,]', '', text)\n",
    "    text = re.sub(r'\\b(?:lb|tsp|tbsp|total|cup|cups|oz|teaspoons|teaspoon)\\b', '', text)\n",
    "    \n",
    "    # Tokenize the text into words\n",
    "    words = word_tokenize(text)\n",
    "    \n",
    "    # Join the words back into a cleaned string\n",
    "    cleaned_text = ' '.join(words)\n",
    "    \n",
    "    return cleaned_text\n",
    "\n",
    "# Input data as a single string\n",
    "input_data = data[\"Ingredients\"][0]\n",
    "\n",
    "# Clean the data\n",
    "cleaned_data = clean_text(input_data)\n",
    "\n",
    "# Print the cleaned data\n",
    "print(cleaned_data)"
   ]
  },
  {
   "cell_type": "code",
   "execution_count": 19,
   "id": "02da37e4",
   "metadata": {},
   "outputs": [],
   "source": [
    "data['Cleaned_Ingredients_New'] = data['Ingredients'].apply(clean_text)"
   ]
  },
  {
   "cell_type": "code",
   "execution_count": 20,
   "id": "5f778553",
   "metadata": {},
   "outputs": [
    {
     "data": {
      "text/plain": [
       "'to pound round italian loaf , cut into inch cubes , tablespoons olive oil , divided , pounds sweet italian sausage , casings removed , divided , stick unsalted butter , cut into pieces , medium onions , chopped , large celery ribs , chopped , garlic cloves , minced , large eggs , lightly beaten , heavy cream , divided , turkey giblet stock or reducedsodium chicken broth , grated parmigianoreggiano ounces , coarsely chopped flatleaf parsley , qt shallow ceramic or glass baking dish'"
      ]
     },
     "execution_count": 20,
     "metadata": {},
     "output_type": "execute_result"
    }
   ],
   "source": [
    "data[\"Cleaned_Ingredients_New\"][3]"
   ]
  },
  {
   "cell_type": "code",
   "execution_count": 21,
   "id": "6957a475",
   "metadata": {},
   "outputs": [
    {
     "data": {
      "text/plain": [
       "\"['1 (¾- to 1-pound) round Italian loaf, cut into 1-inch cubes (8 cups)', '2 tablespoons olive oil, divided', '2 pounds sweet Italian sausage, casings removed, divided', '1 stick unsalted butter, cut into pieces', '3 medium onions, chopped', '4 large celery ribs, chopped', '5 garlic cloves, minced', '4 large eggs, lightly beaten', '¾ cup heavy cream, divided', '½ cup turkey giblet stock or reduced-sodium chicken broth', '1 cup grated Parmigiano-Reggiano (2 ounces)', '½ cup coarsely chopped flat-leaf parsley', '4-qt shallow ceramic or glass baking dish']\""
      ]
     },
     "execution_count": 21,
     "metadata": {},
     "output_type": "execute_result"
    }
   ],
   "source": [
    "data[\"Cleaned_Ingredients\"][3]"
   ]
  },
  {
   "cell_type": "code",
   "execution_count": 22,
   "id": "e805a925",
   "metadata": {},
   "outputs": [],
   "source": [
    "data.drop(\"Ingredients\", axis=1, inplace=True)"
   ]
  },
  {
   "cell_type": "code",
   "execution_count": 32,
   "id": "682d0271",
   "metadata": {},
   "outputs": [],
   "source": [
    "# data[\"Cleaned_Ingredients\"] = data[\"Cleaned_Ingredients\"].apply(lambda x: ''.join(x))\n",
    "# data[\"Cleaned_Ingredients_New\"] = data[\"Cleaned_Ingredients_New\"].apply(lambda x: ''.join(x))"
   ]
  },
  {
   "cell_type": "code",
   "execution_count": 23,
   "id": "13b4eb57",
   "metadata": {},
   "outputs": [
    {
     "data": {
      "text/plain": [
       "'slices bacon , cut crosswise into inch pieces , celery ribs , chopped , carrot , chopped , medium onion , chopped , cinnamon , pound boiling potatoes , medium granny smith apples about pound , pounds butternut squash , peeled , seeded , and cut into inch pieces to , reducedsodium chicken stock or broth , to water , sour cream'"
      ]
     },
     "execution_count": 23,
     "metadata": {},
     "output_type": "execute_result"
    }
   ],
   "source": [
    "data[\"Cleaned_Ingredients_New\"][12]"
   ]
  },
  {
   "cell_type": "code",
   "execution_count": 24,
   "id": "44b52e3c",
   "metadata": {},
   "outputs": [
    {
     "data": {
      "text/html": [
       "<div>\n",
       "<style scoped>\n",
       "    .dataframe tbody tr th:only-of-type {\n",
       "        vertical-align: middle;\n",
       "    }\n",
       "\n",
       "    .dataframe tbody tr th {\n",
       "        vertical-align: top;\n",
       "    }\n",
       "\n",
       "    .dataframe thead th {\n",
       "        text-align: right;\n",
       "    }\n",
       "</style>\n",
       "<table border=\"1\" class=\"dataframe\">\n",
       "  <thead>\n",
       "    <tr style=\"text-align: right;\">\n",
       "      <th></th>\n",
       "      <th>Title</th>\n",
       "      <th>Instructions</th>\n",
       "      <th>Image_Name</th>\n",
       "      <th>Cleaned_Ingredients</th>\n",
       "      <th>Cleaned_Ingredients_New</th>\n",
       "    </tr>\n",
       "  </thead>\n",
       "  <tbody>\n",
       "    <tr>\n",
       "      <th>0</th>\n",
       "      <td>Miso-Butter Roast Chicken With Acorn Squash Pa...</td>\n",
       "      <td>Pat chicken dry with paper towels, season all ...</td>\n",
       "      <td>miso-butter-roast-chicken-acorn-squash-panzanella</td>\n",
       "      <td>['1 (3½–4-lb.) whole chicken', '2¾ tsp. kosher...</td>\n",
       "      <td>whole chicken , kosher salt , divided , plus m...</td>\n",
       "    </tr>\n",
       "    <tr>\n",
       "      <th>1</th>\n",
       "      <td>Crispy Salt and Pepper Potatoes</td>\n",
       "      <td>Preheat oven to 400°F and line a rimmed baking...</td>\n",
       "      <td>crispy-salt-and-pepper-potatoes-dan-kluger</td>\n",
       "      <td>['2 large egg whites', '1 pound new potatoes (...</td>\n",
       "      <td>large egg whites , pound new potatoes about in...</td>\n",
       "    </tr>\n",
       "    <tr>\n",
       "      <th>2</th>\n",
       "      <td>Thanksgiving Mac and Cheese</td>\n",
       "      <td>Place a rack in middle of oven; preheat to 400...</td>\n",
       "      <td>thanksgiving-mac-and-cheese-erick-williams</td>\n",
       "      <td>['1 cup evaporated milk', '1 cup whole milk', ...</td>\n",
       "      <td>evaporated milk , whole milk , garlic powder ,...</td>\n",
       "    </tr>\n",
       "    <tr>\n",
       "      <th>3</th>\n",
       "      <td>Italian Sausage and Bread Stuffing</td>\n",
       "      <td>Preheat oven to 350°F with rack in middle. Gen...</td>\n",
       "      <td>italian-sausage-and-bread-stuffing-240559</td>\n",
       "      <td>['1 (¾- to 1-pound) round Italian loaf, cut in...</td>\n",
       "      <td>to pound round italian loaf , cut into inch cu...</td>\n",
       "    </tr>\n",
       "    <tr>\n",
       "      <th>4</th>\n",
       "      <td>Newton's Law</td>\n",
       "      <td>Stir together brown sugar and hot water in a c...</td>\n",
       "      <td>newtons-law-apple-bourbon-cocktail</td>\n",
       "      <td>['1 teaspoon dark brown sugar', '1 teaspoon ho...</td>\n",
       "      <td>dark brown sugar , hot water , bourbon , fresh...</td>\n",
       "    </tr>\n",
       "  </tbody>\n",
       "</table>\n",
       "</div>"
      ],
      "text/plain": [
       "                                               Title  \\\n",
       "0  Miso-Butter Roast Chicken With Acorn Squash Pa...   \n",
       "1                    Crispy Salt and Pepper Potatoes   \n",
       "2                        Thanksgiving Mac and Cheese   \n",
       "3                 Italian Sausage and Bread Stuffing   \n",
       "4                                       Newton's Law   \n",
       "\n",
       "                                        Instructions  \\\n",
       "0  Pat chicken dry with paper towels, season all ...   \n",
       "1  Preheat oven to 400°F and line a rimmed baking...   \n",
       "2  Place a rack in middle of oven; preheat to 400...   \n",
       "3  Preheat oven to 350°F with rack in middle. Gen...   \n",
       "4  Stir together brown sugar and hot water in a c...   \n",
       "\n",
       "                                          Image_Name  \\\n",
       "0  miso-butter-roast-chicken-acorn-squash-panzanella   \n",
       "1         crispy-salt-and-pepper-potatoes-dan-kluger   \n",
       "2         thanksgiving-mac-and-cheese-erick-williams   \n",
       "3          italian-sausage-and-bread-stuffing-240559   \n",
       "4                 newtons-law-apple-bourbon-cocktail   \n",
       "\n",
       "                                 Cleaned_Ingredients  \\\n",
       "0  ['1 (3½–4-lb.) whole chicken', '2¾ tsp. kosher...   \n",
       "1  ['2 large egg whites', '1 pound new potatoes (...   \n",
       "2  ['1 cup evaporated milk', '1 cup whole milk', ...   \n",
       "3  ['1 (¾- to 1-pound) round Italian loaf, cut in...   \n",
       "4  ['1 teaspoon dark brown sugar', '1 teaspoon ho...   \n",
       "\n",
       "                             Cleaned_Ingredients_New  \n",
       "0  whole chicken , kosher salt , divided , plus m...  \n",
       "1  large egg whites , pound new potatoes about in...  \n",
       "2  evaporated milk , whole milk , garlic powder ,...  \n",
       "3  to pound round italian loaf , cut into inch cu...  \n",
       "4  dark brown sugar , hot water , bourbon , fresh...  "
      ]
     },
     "execution_count": 24,
     "metadata": {},
     "output_type": "execute_result"
    }
   ],
   "source": [
    "data.head()"
   ]
  },
  {
   "cell_type": "markdown",
   "id": "f8536340",
   "metadata": {},
   "source": [
    "### Stemming"
   ]
  },
  {
   "cell_type": "code",
   "execution_count": 25,
   "id": "abe8a4cd",
   "metadata": {},
   "outputs": [],
   "source": [
    "from nltk.stem.porter import PorterStemmer\n",
    "ps = PorterStemmer()"
   ]
  },
  {
   "cell_type": "code",
   "execution_count": 26,
   "id": "b4c23274",
   "metadata": {},
   "outputs": [],
   "source": [
    "def stem(text):\n",
    "    y = []\n",
    "    \n",
    "    for i in text.split():\n",
    "        y.append(ps.stem(i))\n",
    "        \n",
    "    return \" \".join(y)"
   ]
  },
  {
   "cell_type": "code",
   "execution_count": 29,
   "id": "b4132143",
   "metadata": {},
   "outputs": [
    {
     "data": {
      "text/html": [
       "<div>\n",
       "<style scoped>\n",
       "    .dataframe tbody tr th:only-of-type {\n",
       "        vertical-align: middle;\n",
       "    }\n",
       "\n",
       "    .dataframe tbody tr th {\n",
       "        vertical-align: top;\n",
       "    }\n",
       "\n",
       "    .dataframe thead th {\n",
       "        text-align: right;\n",
       "    }\n",
       "</style>\n",
       "<table border=\"1\" class=\"dataframe\">\n",
       "  <thead>\n",
       "    <tr style=\"text-align: right;\">\n",
       "      <th></th>\n",
       "      <th>Title</th>\n",
       "      <th>Instructions</th>\n",
       "      <th>Image_Name</th>\n",
       "      <th>Cleaned_Ingredients</th>\n",
       "      <th>Cleaned_Ingredients_New</th>\n",
       "    </tr>\n",
       "  </thead>\n",
       "  <tbody>\n",
       "    <tr>\n",
       "      <th>0</th>\n",
       "      <td>Miso-Butter Roast Chicken With Acorn Squash Pa...</td>\n",
       "      <td>Pat chicken dry with paper towels, season all ...</td>\n",
       "      <td>miso-butter-roast-chicken-acorn-squash-panzanella</td>\n",
       "      <td>['1 (3½–4-lb.) whole chicken', '2¾ tsp. kosher...</td>\n",
       "      <td>whole chicken , kosher salt , divid , plu more...</td>\n",
       "    </tr>\n",
       "    <tr>\n",
       "      <th>1</th>\n",
       "      <td>Crispy Salt and Pepper Potatoes</td>\n",
       "      <td>Preheat oven to 400°F and line a rimmed baking...</td>\n",
       "      <td>crispy-salt-and-pepper-potatoes-dan-kluger</td>\n",
       "      <td>['2 large egg whites', '1 pound new potatoes (...</td>\n",
       "      <td>larg egg white , pound new potato about inch i...</td>\n",
       "    </tr>\n",
       "    <tr>\n",
       "      <th>2</th>\n",
       "      <td>Thanksgiving Mac and Cheese</td>\n",
       "      <td>Place a rack in middle of oven; preheat to 400...</td>\n",
       "      <td>thanksgiving-mac-and-cheese-erick-williams</td>\n",
       "      <td>['1 cup evaporated milk', '1 cup whole milk', ...</td>\n",
       "      <td>evapor milk , whole milk , garlic powder , oni...</td>\n",
       "    </tr>\n",
       "    <tr>\n",
       "      <th>3</th>\n",
       "      <td>Italian Sausage and Bread Stuffing</td>\n",
       "      <td>Preheat oven to 350°F with rack in middle. Gen...</td>\n",
       "      <td>italian-sausage-and-bread-stuffing-240559</td>\n",
       "      <td>['1 (¾- to 1-pound) round Italian loaf, cut in...</td>\n",
       "      <td>to pound round italian loaf , cut into inch cu...</td>\n",
       "    </tr>\n",
       "    <tr>\n",
       "      <th>4</th>\n",
       "      <td>Newton's Law</td>\n",
       "      <td>Stir together brown sugar and hot water in a c...</td>\n",
       "      <td>newtons-law-apple-bourbon-cocktail</td>\n",
       "      <td>['1 teaspoon dark brown sugar', '1 teaspoon ho...</td>\n",
       "      <td>dark brown sugar , hot water , bourbon , fresh...</td>\n",
       "    </tr>\n",
       "    <tr>\n",
       "      <th>...</th>\n",
       "      <td>...</td>\n",
       "      <td>...</td>\n",
       "      <td>...</td>\n",
       "      <td>...</td>\n",
       "      <td>...</td>\n",
       "    </tr>\n",
       "    <tr>\n",
       "      <th>13496</th>\n",
       "      <td>Brownie Pudding Cake</td>\n",
       "      <td>Preheat the oven to 350°F. Into a bowl sift to...</td>\n",
       "      <td>brownie-pudding-cake-14408</td>\n",
       "      <td>['1 cup all-purpose flour', '2/3 cup unsweeten...</td>\n",
       "      <td>allpurpo flour , unsweeten cocoa powder , doub...</td>\n",
       "    </tr>\n",
       "    <tr>\n",
       "      <th>13497</th>\n",
       "      <td>Israeli Couscous with Roasted Butternut Squash...</td>\n",
       "      <td>Preheat oven to 475°F.\\nHalve lemons and scoop...</td>\n",
       "      <td>israeli-couscous-with-roasted-butternut-squash...</td>\n",
       "      <td>['1 preserved lemon', '1 1/2 pound butternut s...</td>\n",
       "      <td>preserv lemon , pound butternut squash , peel ...</td>\n",
       "    </tr>\n",
       "    <tr>\n",
       "      <th>13498</th>\n",
       "      <td>Rice with Soy-Glazed Bonito Flakes and Sesame ...</td>\n",
       "      <td>If using katsuo bushi flakes from package, moi...</td>\n",
       "      <td>rice-with-soy-glazed-bonito-flakes-and-sesame-...</td>\n",
       "      <td>['Leftover katsuo bushi (dried bonito flakes) ...</td>\n",
       "      <td>leftov katsuo bushi dri bonito flake from make...</td>\n",
       "    </tr>\n",
       "    <tr>\n",
       "      <th>13499</th>\n",
       "      <td>Spanakopita</td>\n",
       "      <td>Melt 1 tablespoon butter in a 12-inch heavy sk...</td>\n",
       "      <td>spanakopita-107344</td>\n",
       "      <td>['1 stick (1/2 cup) plus 1 tablespoon unsalted...</td>\n",
       "      <td>stick plu tablespoon unsalt butter , babi spin...</td>\n",
       "    </tr>\n",
       "    <tr>\n",
       "      <th>13500</th>\n",
       "      <td>Mexican Poblano, Spinach, and Black Bean \"Lasa...</td>\n",
       "      <td>Lay 4 chiles on their sides on racks of gas bu...</td>\n",
       "      <td>mexican-poblano-spinach-and-black-bean-lasagne...</td>\n",
       "      <td>['12 medium to large fresh poblano chiles (2 1...</td>\n",
       "      <td>medium to larg fresh poblano chile , to can wh...</td>\n",
       "    </tr>\n",
       "  </tbody>\n",
       "</table>\n",
       "<p>13493 rows × 5 columns</p>\n",
       "</div>"
      ],
      "text/plain": [
       "                                                   Title  \\\n",
       "0      Miso-Butter Roast Chicken With Acorn Squash Pa...   \n",
       "1                        Crispy Salt and Pepper Potatoes   \n",
       "2                            Thanksgiving Mac and Cheese   \n",
       "3                     Italian Sausage and Bread Stuffing   \n",
       "4                                           Newton's Law   \n",
       "...                                                  ...   \n",
       "13496                               Brownie Pudding Cake   \n",
       "13497  Israeli Couscous with Roasted Butternut Squash...   \n",
       "13498  Rice with Soy-Glazed Bonito Flakes and Sesame ...   \n",
       "13499                                        Spanakopita   \n",
       "13500  Mexican Poblano, Spinach, and Black Bean \"Lasa...   \n",
       "\n",
       "                                            Instructions  \\\n",
       "0      Pat chicken dry with paper towels, season all ...   \n",
       "1      Preheat oven to 400°F and line a rimmed baking...   \n",
       "2      Place a rack in middle of oven; preheat to 400...   \n",
       "3      Preheat oven to 350°F with rack in middle. Gen...   \n",
       "4      Stir together brown sugar and hot water in a c...   \n",
       "...                                                  ...   \n",
       "13496  Preheat the oven to 350°F. Into a bowl sift to...   \n",
       "13497  Preheat oven to 475°F.\\nHalve lemons and scoop...   \n",
       "13498  If using katsuo bushi flakes from package, moi...   \n",
       "13499  Melt 1 tablespoon butter in a 12-inch heavy sk...   \n",
       "13500  Lay 4 chiles on their sides on racks of gas bu...   \n",
       "\n",
       "                                              Image_Name  \\\n",
       "0      miso-butter-roast-chicken-acorn-squash-panzanella   \n",
       "1             crispy-salt-and-pepper-potatoes-dan-kluger   \n",
       "2             thanksgiving-mac-and-cheese-erick-williams   \n",
       "3              italian-sausage-and-bread-stuffing-240559   \n",
       "4                     newtons-law-apple-bourbon-cocktail   \n",
       "...                                                  ...   \n",
       "13496                         brownie-pudding-cake-14408   \n",
       "13497  israeli-couscous-with-roasted-butternut-squash...   \n",
       "13498  rice-with-soy-glazed-bonito-flakes-and-sesame-...   \n",
       "13499                                 spanakopita-107344   \n",
       "13500  mexican-poblano-spinach-and-black-bean-lasagne...   \n",
       "\n",
       "                                     Cleaned_Ingredients  \\\n",
       "0      ['1 (3½–4-lb.) whole chicken', '2¾ tsp. kosher...   \n",
       "1      ['2 large egg whites', '1 pound new potatoes (...   \n",
       "2      ['1 cup evaporated milk', '1 cup whole milk', ...   \n",
       "3      ['1 (¾- to 1-pound) round Italian loaf, cut in...   \n",
       "4      ['1 teaspoon dark brown sugar', '1 teaspoon ho...   \n",
       "...                                                  ...   \n",
       "13496  ['1 cup all-purpose flour', '2/3 cup unsweeten...   \n",
       "13497  ['1 preserved lemon', '1 1/2 pound butternut s...   \n",
       "13498  ['Leftover katsuo bushi (dried bonito flakes) ...   \n",
       "13499  ['1 stick (1/2 cup) plus 1 tablespoon unsalted...   \n",
       "13500  ['12 medium to large fresh poblano chiles (2 1...   \n",
       "\n",
       "                                 Cleaned_Ingredients_New  \n",
       "0      whole chicken , kosher salt , divid , plu more...  \n",
       "1      larg egg white , pound new potato about inch i...  \n",
       "2      evapor milk , whole milk , garlic powder , oni...  \n",
       "3      to pound round italian loaf , cut into inch cu...  \n",
       "4      dark brown sugar , hot water , bourbon , fresh...  \n",
       "...                                                  ...  \n",
       "13496  allpurpo flour , unsweeten cocoa powder , doub...  \n",
       "13497  preserv lemon , pound butternut squash , peel ...  \n",
       "13498  leftov katsuo bushi dri bonito flake from make...  \n",
       "13499  stick plu tablespoon unsalt butter , babi spin...  \n",
       "13500  medium to larg fresh poblano chile , to can wh...  \n",
       "\n",
       "[13493 rows x 5 columns]"
      ]
     },
     "execution_count": 29,
     "metadata": {},
     "output_type": "execute_result"
    }
   ],
   "source": [
    "data[\"Cleaned_Ingredients_New\"] = data[\"Cleaned_Ingredients_New\"].apply(stem)\n",
    "data"
   ]
  },
  {
   "cell_type": "markdown",
   "id": "d961af48",
   "metadata": {},
   "source": [
    "### Lemmetization"
   ]
  },
  {
   "cell_type": "code",
   "execution_count": 28,
   "id": "dfbcaf15",
   "metadata": {},
   "outputs": [
    {
     "name": "stderr",
     "output_type": "stream",
     "text": [
      "[nltk_data] Downloading package stopwords to\n",
      "[nltk_data]     C:\\Users\\PYTHON\\AppData\\Roaming\\nltk_data...\n",
      "[nltk_data]   Unzipping corpora\\stopwords.zip.\n",
      "[nltk_data] Downloading package punkt to\n",
      "[nltk_data]     C:\\Users\\PYTHON\\AppData\\Roaming\\nltk_data...\n",
      "[nltk_data]   Package punkt is already up-to-date!\n",
      "[nltk_data] Downloading package wordnet to\n",
      "[nltk_data]     C:\\Users\\PYTHON\\AppData\\Roaming\\nltk_data...\n"
     ]
    }
   ],
   "source": [
    "import nltk\n",
    "nltk.download('stopwords')\n",
    "nltk.download('punkt')\n",
    "nltk.download('wordnet')\n",
    "from nltk.stem import WordNetLemmatizer\n",
    "from nltk.corpus import stopwords"
   ]
  },
  {
   "cell_type": "code",
   "execution_count": 30,
   "id": "1cc468cf",
   "metadata": {},
   "outputs": [],
   "source": [
    "lm = WordNetLemmatizer()\n",
    "\n",
    "def lemm(text):\n",
    "    y = []\n",
    "    \n",
    "    for i in text.split():\n",
    "        y.append(lm.lemmatize(i))\n",
    "        \n",
    "    return \" \".join(y)"
   ]
  },
  {
   "cell_type": "code",
   "execution_count": 31,
   "id": "56af86d1",
   "metadata": {},
   "outputs": [],
   "source": [
    "data[\"Cleaned_Ingredients_New\"] = data[\"Cleaned_Ingredients_New\"].apply(lemm)"
   ]
  },
  {
   "cell_type": "code",
   "execution_count": 32,
   "id": "18119c33",
   "metadata": {},
   "outputs": [
    {
     "data": {
      "text/plain": [
       "'whole chicken , kosher salt , divid , plu more , small acorn squash about , fine chop sage , fine chop rosemari , unsalt butter , melt , plu room temperatur , ground allspic , pinch of crush red pepper flake , freshli ground black pepper , loaf goodqual sturdi white bread , torn into piec about , medium appl such a gala or pink ladi about , core , cut into piec , extravirgin oliv oil , small red onion , thinli slice , appl cider vinegar , white miso , allpurpo flour , unsalt butter , room temperatur , dri white wine , unsalt chicken broth , white miso , kosher salt , freshli ground pepper'"
      ]
     },
     "execution_count": 32,
     "metadata": {},
     "output_type": "execute_result"
    }
   ],
   "source": [
    "\n",
    "data[\"Cleaned_Ingredients_New\"][0]"
   ]
  },
  {
   "cell_type": "markdown",
   "id": "68a9a535",
   "metadata": {},
   "source": [
    "### Text Vectorization"
   ]
  },
  {
   "cell_type": "code",
   "execution_count": 33,
   "id": "5cc017fc",
   "metadata": {},
   "outputs": [],
   "source": [
    "# Text Vectorization using Bag of Words\n",
    "from sklearn.feature_extraction.text import CountVectorizer\n",
    "cv = CountVectorizer(max_features=5000, stop_words='english')"
   ]
  },
  {
   "cell_type": "code",
   "execution_count": 37,
   "id": "96828de5",
   "metadata": {},
   "outputs": [],
   "source": [
    "vectors = cv.fit_transform(data[\"Cleaned_Ingredients_New\"]).toarray()"
   ]
  },
  {
   "cell_type": "code",
   "execution_count": 38,
   "id": "688b6552",
   "metadata": {},
   "outputs": [
    {
     "data": {
      "text/plain": [
       "(13493, 5000)"
      ]
     },
     "execution_count": 38,
     "metadata": {},
     "output_type": "execute_result"
    }
   ],
   "source": [
    "vectors.shape"
   ]
  },
  {
   "cell_type": "code",
   "execution_count": 39,
   "id": "d8a8c10a",
   "metadata": {},
   "outputs": [
    {
     "data": {
      "text/plain": [
       "5000"
      ]
     },
     "execution_count": 39,
     "metadata": {},
     "output_type": "execute_result"
    }
   ],
   "source": [
    "len(cv.get_feature_names_out())"
   ]
  },
  {
   "cell_type": "code",
   "execution_count": 40,
   "id": "678f99c8",
   "metadata": {},
   "outputs": [],
   "source": [
    "# Cosine similarity\n",
    "from sklearn.metrics.pairwise import cosine_similarity\n",
    "\n",
    "similarity = cosine_similarity(vectors)"
   ]
  },
  {
   "cell_type": "code",
   "execution_count": 35,
   "id": "c4f76cda",
   "metadata": {},
   "outputs": [
    {
     "data": {
      "text/plain": [
       "array([1.        , 0.3988318 , 0.25291899, ..., 0.02837522, 0.18057878,\n",
       "       0.15784085])"
      ]
     },
     "execution_count": 35,
     "metadata": {},
     "output_type": "execute_result"
    }
   ],
   "source": [
    "similarity[0]"
   ]
  },
  {
   "cell_type": "code",
   "execution_count": 42,
   "id": "9a9c8359",
   "metadata": {},
   "outputs": [
    {
     "data": {
      "text/plain": [
       "'Thanksgiving Mac and Cheese'"
      ]
     },
     "execution_count": 42,
     "metadata": {},
     "output_type": "execute_result"
    }
   ],
   "source": [
    "data[\"Title\"][2]"
   ]
  },
  {
   "cell_type": "code",
   "execution_count": 43,
   "id": "f215bd96",
   "metadata": {},
   "outputs": [
    {
     "data": {
      "text/plain": [
       "0"
      ]
     },
     "execution_count": 43,
     "metadata": {},
     "output_type": "execute_result"
    }
   ],
   "source": [
    "data[data['Title'] == 'Miso-Butter Roast Chicken With Acorn Squash Panzanella'].index[0]"
   ]
  },
  {
   "cell_type": "code",
   "execution_count": 44,
   "id": "767624eb",
   "metadata": {},
   "outputs": [
    {
     "data": {
      "text/plain": [
       "[(1283, 0.643750273331526),\n",
       " (3408, 0.5959565336976098),\n",
       " (331, 0.5889571468142349),\n",
       " (5177, 0.587328597166902),\n",
       " (881, 0.5737627364434074)]"
      ]
     },
     "execution_count": 44,
     "metadata": {},
     "output_type": "execute_result"
    }
   ],
   "source": [
    "sorted(list(enumerate(similarity[0])), reverse=True, key=lambda x:x[1])[1:6]"
   ]
  },
  {
   "cell_type": "code",
   "execution_count": 49,
   "id": "fddfb556",
   "metadata": {},
   "outputs": [],
   "source": [
    "def recommend(movie):\n",
    "    movie_index = data[data['Title'] == movie].index[0]\n",
    "    distances = similarity[movie_index]\n",
    "    movies_list = sorted(list(enumerate(distances)), reverse=True, key=lambda x:x[1])[1:6]\n",
    "    \n",
    "    for i in movies_list:\n",
    "        print(data[\"Title\"][i[0]])"
   ]
  },
  {
   "cell_type": "code",
   "execution_count": 50,
   "id": "e2d58541",
   "metadata": {},
   "outputs": [
    {
     "name": "stdout",
     "output_type": "stream",
     "text": [
      "Chicken Under a Skillet with Lemon Pan Sauce\n",
      "Sole Meuniere with Rice Pilaf\n",
      "Risotto With Mushrooms and Thyme\n",
      "Cod with Lemon, Green Olive, and Onion Relish\n",
      "Oven Risotto with Crispy Roasted Mushrooms\n"
     ]
    }
   ],
   "source": [
    "recommend('Miso-Butter Roast Chicken With Acorn Squash Panzanella')"
   ]
  },
  {
   "cell_type": "code",
   "execution_count": null,
   "id": "cd593969",
   "metadata": {},
   "outputs": [],
   "source": []
  },
  {
   "cell_type": "code",
   "execution_count": null,
   "id": "481419a2",
   "metadata": {},
   "outputs": [],
   "source": [
    "#using count vectorizer"
   ]
  },
  {
   "cell_type": "code",
   "execution_count": null,
   "id": "af4ea5fb",
   "metadata": {},
   "outputs": [],
   "source": []
  },
  {
   "cell_type": "code",
   "execution_count": 52,
   "id": "b5cd00fb",
   "metadata": {},
   "outputs": [],
   "source": [
    "import pandas as pd\n",
    "import numpy as np\n",
    "import re\n",
    "from nltk.tokenize import word_tokenize\n",
    "from nltk.stem.porter import PorterStemmer\n",
    "from sklearn.feature_extraction.text import CountVectorizer\n",
    "from sklearn.metrics.pairwise import cosine_similarity\n",
    "\n",
    "# Load your dataset\n",
    "data = pd.read_csv(\"Food Ingredients and Recipe Dataset with Image Name Mapping.csv\")\n",
    "\n",
    "# Drop the 'Unnamed: 0' column\n",
    "data.drop('Unnamed: 0', inplace=True, axis=1)\n",
    "\n",
    "# Clean the text data\n",
    "def clean_text(text):\n",
    "    text = text.lower()\n",
    "    text = re.sub(r'[^a-zA-Z\\s,]', '', text)\n",
    "    text = re.sub(r'\\b(?:lb|tsp|tbsp|total|cup|cups)\\b', '', text)\n",
    "    words = word_tokenize(text)\n",
    "    cleaned_text = ' '.join(words)\n",
    "    return cleaned_text\n",
    "\n",
    "def stem(text):\n",
    "    y = []\n",
    "    for i in text.split():\n",
    "        y.append(ps.stem(i))\n",
    "    return \" \".join(y)\n",
    "\n",
    "ps = PorterStemmer()\n",
    "data[\"Cleaned_Ingredients_New\"] = data[\"Ingredients\"].apply(clean_text)\n",
    "data[\"Cleaned_Ingredients_New\"] = data[\"Cleaned_Ingredients_New\"].apply(stem)\n",
    "\n",
    "# Create a CountVectorizer for ingredient vectors\n",
    "cv = CountVectorizer(max_features=5000, stop_words='english')\n",
    "ingredient_vectors = cv.fit_transform(data[\"Cleaned_Ingredients_New\"]).toarray()"
   ]
  },
  {
   "cell_type": "code",
   "execution_count": 53,
   "id": "fe2d912e",
   "metadata": {},
   "outputs": [],
   "source": [
    "# Calculate cosine similarity between input ingredients and dataset ingredients\n",
    "def recommend_dishes(input_ingredients, dataset, vectors, vectorizer, top_n=5):\n",
    "    # Clean and stem the input ingredients\n",
    "    cleaned_input = clean_text(input_ingredients)\n",
    "    stemmed_input = stem(cleaned_input)\n",
    "    \n",
    "    # Transform the input ingredients into a vector\n",
    "    input_vector = vectorizer.transform([stemmed_input]).toarray()\n",
    "    \n",
    "    # Calculate cosine similarity\n",
    "    similarities = cosine_similarity(input_vector, vectors)\n",
    "    \n",
    "    # Get the indices of the top N similar dishes\n",
    "    top_indices = np.argsort(similarities[0])[::-1][:top_n]\n",
    "    \n",
    "    # Get the titles and instructions of the top N similar dishes\n",
    "    top_dishes = dataset.iloc[top_indices][[\"Title\", \"Instructions\"]]\n",
    "    \n",
    "    return top_dishes"
   ]
  },
  {
   "cell_type": "code",
   "execution_count": 54,
   "id": "96a1fc94",
   "metadata": {},
   "outputs": [
    {
     "name": "stdout",
     "output_type": "stream",
     "text": [
      "Top 5 Recommended Dishes:\n",
      "1. Miso-Butter Roast Chicken With Acorn Squash Panzanella\n",
      "   Instructions: Pat chicken dry with paper towels, season all over with 2 tsp. salt, and tie legs together with kitchen twine. Let sit at room temperature 1 hour.\n",
      "Meanwhile, halve squash and scoop out seeds. Run a vegetable peeler along ridges of squash halves to remove skin. Cut each half into ½\"-thick wedges; arrange on a rimmed baking sheet.\n",
      "Combine sage, rosemary, and 6 Tbsp. melted butter in a large bowl; pour half of mixture over squash on baking sheet. Sprinkle squash with allspice, red pepper flakes, and ½ tsp. salt and season with black pepper; toss to coat.\n",
      "Add bread, apples, oil, and ¼ tsp. salt to remaining herb butter in bowl; season with black pepper and toss to combine. Set aside.\n",
      "Place onion and vinegar in a small bowl; season with salt and toss to coat. Let sit, tossing occasionally, until ready to serve.\n",
      "Place a rack in middle and lower third of oven; preheat to 425°F. Mix miso and 3 Tbsp. room-temperature butter in a small bowl until smooth. Pat chicken dry with paper towels, then rub or brush all over with miso butter. Place chicken in a large cast-iron skillet and roast on middle rack until an instant-read thermometer inserted into the thickest part of breast registers 155°F, 50–60 minutes. (Temperature will climb to 165°F while chicken rests.) Let chicken rest in skillet at least 5 minutes, then transfer to a plate; reserve skillet.\n",
      "Meanwhile, roast squash on lower rack until mostly tender, about 25 minutes. Remove from oven and scatter reserved bread mixture over, spreading into as even a layer as you can manage. Return to oven and roast until bread is golden brown and crisp and apples are tender, about 15 minutes. Remove from oven, drain pickled onions, and toss to combine. Transfer to a serving dish.\n",
      "Using your fingers, mash flour and butter in a small bowl to combine.\n",
      "Set reserved skillet with chicken drippings over medium heat. You should have about ¼ cup, but a little over or under is all good. (If you have significantly more, drain off and set excess aside.) Add wine and cook, stirring often and scraping up any browned bits with a wooden spoon, until bits are loosened and wine is reduced by about half (you should be able to smell the wine), about 2 minutes. Add butter mixture; cook, stirring often, until a smooth paste forms, about 2 minutes. Add broth and any reserved drippings and cook, stirring constantly, until combined and thickened, 6–8 minutes. Remove from heat and stir in miso. Taste and season with salt and black pepper.\n",
      "Serve chicken with gravy and squash panzanella alongside.\n",
      "\n",
      "2. Sunny Side Burger with Salsa Verde\n",
      "   Instructions: Heat broiler. Toss tomatillos, onion, and jalapeños with oil on a foil-lined rimmed baking sheet; season with salt. Broil until blackened in spots and very soft, 12–15 minutes. Let vegetables cool slightly, then transfer to a food processor. Add cilantro and black pepper; pulse until coarsely chopped (3 or 4 pulses). Taste salsa verde and season with more salt if needed.\n",
      "Portion beef into 4 loosely packed balls (5 oz. each). Heat a large cast-iron skillet over medium-high until just beginning to smoke. Add 2 Tbsp. oil, then all 4 balls of meat. Firmly smash down on meat with a heavy metal spatula to create a craggy-edged 4\"-diameter patty; season with salt and pepper. Cook, undisturbed, until deeply charred underneath, about 3 minutes. Flip and season other side with salt and pepper; cook to medium, about 3 minutes. Transfer to a plate and let rest.\n",
      "Carefully wipe out skillet with a paper towel, leaving only a light coating of oil. Set skillet over medium heat. Working in 2 batches, toast buns, cut side down, until golden brown, about 1 minute. Transfer to a clean surface.\n",
      "Heat remaining 2 Tbsp. oil in a large nonstick skillet over medium. Crack eggs into skillet and cook until whites are just set and edges are crisp, about 4 minutes. Season with salt.\n",
      "Spread insides of both tops and bottoms of buns with a heaping tablespoonful of salsa verde. Place a burger on each bottom bun, top with an egg, sunny side up, and close burger.\n",
      "Salsa verde can be made 1 day ahead. Transfer to a small bowl; cover and chill.\n",
      "\n",
      "3. Seared Scallops with Brown Butter and Lemon Pan Sauce\n",
      "   Instructions: Cut 2 lemons in half and squeeze juice into a measuring glass or small bowl; you should have 1/4 cup juice. Set aside. Using a paring knife, cut ends off remaining lemon to expose flesh. Upend lemon on a cut end and remove peel and white pith from lemons; discard. Cut between membranes to release segments into bowl with juice; squeeze membranes to get any last drops of juice. Fish out any seeds; set aside. Thinly slice chives and place in a small bowl; set aside.\n",
      "Pull side muscle off scallops, if needed; pat dry. Season lightly on both sides with salt and pepper. Heat a large skillet, preferably stainless steel, over medium-high. Pour in oil to lightly coat surface (2–3 Tbsp.); heat until it shimmers and you see first wisps of smoke. Swiftly place scallops into skillet, flat side down, and cook without touching, tossing, or fussing until underside is deep golden brown, 3–4 minutes. Use a thin spatula or tongs to gently turn over; if they resist, cook another 30 seconds and try again. Cook on second side until flesh at top and bottom looks opaque but there is still a faintly translucent strip in the middle, 1–2 minutes, depending on size. Transfer scallops to a plate.\n",
      "Pour off any oil in skillet and set over medium heat. Add butter and cook, swirling, until butter foams, then browns, about 2 minutes. Add reserved lemon juice and segments; energetically stir and swirl pan to emulsify sauce. Mix in capers and reserved chives and spoon pan sauce around and over scallops.\n",
      "\n",
      "4. Zingy Red Sauce\n",
      "   Instructions: Purée 2 garlic cloves, 1/2 cup chopped roasted red peppers from a jar (about 2), 1/2 cup unsalted, roasted almonds, and 2 tablespoons red wine vinegar in a food processor until smooth. With motor running, add 1/4 cup extra-virgin olive oil and process until smooth; season with kosher salt, freshly ground black pepper, and more vinegar, if desired.\n",
      "DO AHEAD: Sauce can be made 2 days ahead. Cover and chill.\n",
      "\n",
      "5. Perfectly Roasted Potatoes\n",
      "   Instructions: Place a rack in the lowest position in your oven and preheat to 425°F. Halve potatoes lengthwise.\n",
      "Arrange potatoes, cut side down, on a large rimmed baking sheet, spacing evenly. Pour in 1 1/2 to 2 cups water—enough to cover the surface in a thin layer but not so much that it spills the second you move the sheet.\n",
      "Cover baking sheet with a double layer of foil, crimping sides very tightly to seal well. This will trap in steam and prevent water from sloshing out if you accidentally jostle the sheet.\n",
      "Bake until a fork or a skewer slides easily through the potatoes, 25 to 30 minutes. The foil will be puffed; pierce it with the fork or skewer and poke around for a couple of potatoes to test.\n",
      "Let potatos cool, still covered, 5 minutes. Use tongs to peel back foil about 1 inch at on corner. Carefully tip sheet and pour off water (its job is done). Crank up oven to 500°F or as high as it goes.\n",
      "Remove foil. Drizzle olive oil over potatoes. Season generously with kosher salt and freshly ground pepper. Let potatoes cool to the point that you can handle them, then toss to coat.\n",
      "Arrange potatoes cut side down and roast, uncovered, until skins are golden, cut sides are deeply browned and crisp, and you can see the edges frying and sizzling in the oil on the sheet, 20–25 minutes.\n",
      "Let potatoes cool for a minute or two, then use a spatula to unstick them from the baking sheet. Serve them exactly as they are because these potatoes need absolutely nothing else.\n",
      "\n"
     ]
    }
   ],
   "source": [
    "# Input your ingredients as a string\n",
    "input_ingredients = \"whole chicken, kosher salt, freshli ground pepper, unsalt butter, extravirgin olive oil, small red onion, apple\"\n",
    "\n",
    "# Get the top 5 recommended dishes\n",
    "recommended_dishes = recommend_dishes(input_ingredients, data, ingredient_vectors, cv)\n",
    "\n",
    "# Print the recommended dishes and their instructions\n",
    "print(\"Top 5 Recommended Dishes:\")\n",
    "for i, (dish, instructions) in enumerate(recommended_dishes.iterrows(), start=1):\n",
    "    print(f\"{i}. {instructions['Title']}\")\n",
    "    print(\"   Instructions:\", instructions['Instructions'])\n",
    "    print()"
   ]
  },
  {
   "cell_type": "code",
   "execution_count": 55,
   "id": "61d82488",
   "metadata": {},
   "outputs": [],
   "source": [
    "from PIL import Image\n",
    "import IPython.display as display"
   ]
  },
  {
   "cell_type": "code",
   "execution_count": 56,
   "id": "216d5d01",
   "metadata": {},
   "outputs": [
    {
     "data": {
      "text/html": [
       "<div>\n",
       "<style scoped>\n",
       "    .dataframe tbody tr th:only-of-type {\n",
       "        vertical-align: middle;\n",
       "    }\n",
       "\n",
       "    .dataframe tbody tr th {\n",
       "        vertical-align: top;\n",
       "    }\n",
       "\n",
       "    .dataframe thead th {\n",
       "        text-align: right;\n",
       "    }\n",
       "</style>\n",
       "<table border=\"1\" class=\"dataframe\">\n",
       "  <thead>\n",
       "    <tr style=\"text-align: right;\">\n",
       "      <th></th>\n",
       "      <th>Title</th>\n",
       "      <th>Ingredients</th>\n",
       "      <th>Instructions</th>\n",
       "      <th>Image_Name</th>\n",
       "      <th>Cleaned_Ingredients</th>\n",
       "      <th>Cleaned_Ingredients_New</th>\n",
       "    </tr>\n",
       "  </thead>\n",
       "  <tbody>\n",
       "    <tr>\n",
       "      <th>0</th>\n",
       "      <td>Miso-Butter Roast Chicken With Acorn Squash Pa...</td>\n",
       "      <td>['1 (3½–4-lb.) whole chicken', '2¾ tsp. kosher...</td>\n",
       "      <td>Pat chicken dry with paper towels, season all ...</td>\n",
       "      <td>miso-butter-roast-chicken-acorn-squash-panzanella</td>\n",
       "      <td>['1 (3½–4-lb.) whole chicken', '2¾ tsp. kosher...</td>\n",
       "      <td>whole chicken , kosher salt , divid , plu more...</td>\n",
       "    </tr>\n",
       "    <tr>\n",
       "      <th>1</th>\n",
       "      <td>Crispy Salt and Pepper Potatoes</td>\n",
       "      <td>['2 large egg whites', '1 pound new potatoes (...</td>\n",
       "      <td>Preheat oven to 400°F and line a rimmed baking...</td>\n",
       "      <td>crispy-salt-and-pepper-potatoes-dan-kluger</td>\n",
       "      <td>['2 large egg whites', '1 pound new potatoes (...</td>\n",
       "      <td>larg egg white , pound new potato about inch i...</td>\n",
       "    </tr>\n",
       "    <tr>\n",
       "      <th>2</th>\n",
       "      <td>Thanksgiving Mac and Cheese</td>\n",
       "      <td>['1 cup evaporated milk', '1 cup whole milk', ...</td>\n",
       "      <td>Place a rack in middle of oven; preheat to 400...</td>\n",
       "      <td>thanksgiving-mac-and-cheese-erick-williams</td>\n",
       "      <td>['1 cup evaporated milk', '1 cup whole milk', ...</td>\n",
       "      <td>evapor milk , whole milk , garlic powder , oni...</td>\n",
       "    </tr>\n",
       "    <tr>\n",
       "      <th>3</th>\n",
       "      <td>Italian Sausage and Bread Stuffing</td>\n",
       "      <td>['1 (¾- to 1-pound) round Italian loaf, cut in...</td>\n",
       "      <td>Preheat oven to 350°F with rack in middle. Gen...</td>\n",
       "      <td>italian-sausage-and-bread-stuffing-240559</td>\n",
       "      <td>['1 (¾- to 1-pound) round Italian loaf, cut in...</td>\n",
       "      <td>to pound round italian loaf , cut into inch cu...</td>\n",
       "    </tr>\n",
       "    <tr>\n",
       "      <th>4</th>\n",
       "      <td>Newton's Law</td>\n",
       "      <td>['1 teaspoon dark brown sugar', '1 teaspoon ho...</td>\n",
       "      <td>Stir together brown sugar and hot water in a c...</td>\n",
       "      <td>newtons-law-apple-bourbon-cocktail</td>\n",
       "      <td>['1 teaspoon dark brown sugar', '1 teaspoon ho...</td>\n",
       "      <td>teaspoon dark brown sugar , teaspoon hot water...</td>\n",
       "    </tr>\n",
       "  </tbody>\n",
       "</table>\n",
       "</div>"
      ],
      "text/plain": [
       "                                               Title  \\\n",
       "0  Miso-Butter Roast Chicken With Acorn Squash Pa...   \n",
       "1                    Crispy Salt and Pepper Potatoes   \n",
       "2                        Thanksgiving Mac and Cheese   \n",
       "3                 Italian Sausage and Bread Stuffing   \n",
       "4                                       Newton's Law   \n",
       "\n",
       "                                         Ingredients  \\\n",
       "0  ['1 (3½–4-lb.) whole chicken', '2¾ tsp. kosher...   \n",
       "1  ['2 large egg whites', '1 pound new potatoes (...   \n",
       "2  ['1 cup evaporated milk', '1 cup whole milk', ...   \n",
       "3  ['1 (¾- to 1-pound) round Italian loaf, cut in...   \n",
       "4  ['1 teaspoon dark brown sugar', '1 teaspoon ho...   \n",
       "\n",
       "                                        Instructions  \\\n",
       "0  Pat chicken dry with paper towels, season all ...   \n",
       "1  Preheat oven to 400°F and line a rimmed baking...   \n",
       "2  Place a rack in middle of oven; preheat to 400...   \n",
       "3  Preheat oven to 350°F with rack in middle. Gen...   \n",
       "4  Stir together brown sugar and hot water in a c...   \n",
       "\n",
       "                                          Image_Name  \\\n",
       "0  miso-butter-roast-chicken-acorn-squash-panzanella   \n",
       "1         crispy-salt-and-pepper-potatoes-dan-kluger   \n",
       "2         thanksgiving-mac-and-cheese-erick-williams   \n",
       "3          italian-sausage-and-bread-stuffing-240559   \n",
       "4                 newtons-law-apple-bourbon-cocktail   \n",
       "\n",
       "                                 Cleaned_Ingredients  \\\n",
       "0  ['1 (3½–4-lb.) whole chicken', '2¾ tsp. kosher...   \n",
       "1  ['2 large egg whites', '1 pound new potatoes (...   \n",
       "2  ['1 cup evaporated milk', '1 cup whole milk', ...   \n",
       "3  ['1 (¾- to 1-pound) round Italian loaf, cut in...   \n",
       "4  ['1 teaspoon dark brown sugar', '1 teaspoon ho...   \n",
       "\n",
       "                             Cleaned_Ingredients_New  \n",
       "0  whole chicken , kosher salt , divid , plu more...  \n",
       "1  larg egg white , pound new potato about inch i...  \n",
       "2  evapor milk , whole milk , garlic powder , oni...  \n",
       "3  to pound round italian loaf , cut into inch cu...  \n",
       "4  teaspoon dark brown sugar , teaspoon hot water...  "
      ]
     },
     "execution_count": 56,
     "metadata": {},
     "output_type": "execute_result"
    }
   ],
   "source": [
    "data.head()"
   ]
  },
  {
   "cell_type": "code",
   "execution_count": 58,
   "id": "d94f881e",
   "metadata": {},
   "outputs": [
    {
     "name": "stdout",
     "output_type": "stream",
     "text": [
      "Top 5 Recommended Dishes:\n"
     ]
    },
    {
     "data": {
      "image/png": "[encoded data removed]",
      "text/plain": [
       "<PIL.PngImagePlugin.PngImageFile image mode=P size=348x331>"
      ]
     },
     "metadata": {},
     "output_type": "display_data"
    },
    {
     "name": "stdout",
     "output_type": "stream",
     "text": [
      "\n",
      "\n",
      "Title: Miso-Butter Roast Chicken With Acorn Squash Panzanella\n",
      "\n",
      "\n",
      "Ingredients: \n",
      "['1 (3½–4-lb.) whole chicken', '2¾ tsp. kosher salt, divided, plus more', '2 small acorn squash (about 3 lb. total)', '2 Tbsp. finely chopped sage', '1 Tbsp. finely chopped rosemary', '6 Tbsp. unsalted butter, melted, plus 3 Tbsp. room temperature', '¼ tsp. ground allspice', 'Pinch of crushed red pepper flakes', 'Freshly ground black pepper', '⅓ loaf good-quality sturdy white bread, torn into 1\" pieces (about 2½ cups)', '2 medium apples (such as Gala or Pink Lady; about 14 oz. total), cored, cut into 1\" pieces', '2 Tbsp. extra-virgin olive oil', '½ small red onion, thinly sliced', '3 Tbsp. apple cider vinegar', '1 Tbsp. white miso', '¼ cup all-purpose flour', '2 Tbsp. unsalted butter, room temperature', '¼ cup dry white wine', '2 cups unsalted chicken broth', '2 tsp. white miso', 'Kosher salt', 'freshly ground pepper']\n",
      "\n",
      "\n",
      "Instructions: \n",
      "Pat chicken dry with paper towels, season all over with 2 tsp. salt, and tie legs together with kitchen twine. Let sit at room temperature 1 hour.\n",
      "Meanwhile, halve squash and scoop out seeds. Run a vegetable peeler along ridges of squash halves to remove skin. Cut each half into ½\"-thick wedges; arrange on a rimmed baking sheet.\n",
      "Combine sage, rosemary, and 6 Tbsp. melted butter in a large bowl; pour half of mixture over squash on baking sheet. Sprinkle squash with allspice, red pepper flakes, and ½ tsp. salt and season with black pepper; toss to coat.\n",
      "Add bread, apples, oil, and ¼ tsp. salt to remaining herb butter in bowl; season with black pepper and toss to combine. Set aside.\n",
      "Place onion and vinegar in a small bowl; season with salt and toss to coat. Let sit, tossing occasionally, until ready to serve.\n",
      "Place a rack in middle and lower third of oven; preheat to 425°F. Mix miso and 3 Tbsp. room-temperature butter in a small bowl until smooth. Pat chicken dry with paper towels, then rub or brush all over with miso butter. Place chicken in a large cast-iron skillet and roast on middle rack until an instant-read thermometer inserted into the thickest part of breast registers 155°F, 50–60 minutes. (Temperature will climb to 165°F while chicken rests.) Let chicken rest in skillet at least 5 minutes, then transfer to a plate; reserve skillet.\n",
      "Meanwhile, roast squash on lower rack until mostly tender, about 25 minutes. Remove from oven and scatter reserved bread mixture over, spreading into as even a layer as you can manage. Return to oven and roast until bread is golden brown and crisp and apples are tender, about 15 minutes. Remove from oven, drain pickled onions, and toss to combine. Transfer to a serving dish.\n",
      "Using your fingers, mash flour and butter in a small bowl to combine.\n",
      "Set reserved skillet with chicken drippings over medium heat. You should have about ¼ cup, but a little over or under is all good. (If you have significantly more, drain off and set excess aside.) Add wine and cook, stirring often and scraping up any browned bits with a wooden spoon, until bits are loosened and wine is reduced by about half (you should be able to smell the wine), about 2 minutes. Add butter mixture; cook, stirring often, until a smooth paste forms, about 2 minutes. Add broth and any reserved drippings and cook, stirring constantly, until combined and thickened, 6–8 minutes. Remove from heat and stir in miso. Taste and season with salt and black pepper.\n",
      "Serve chicken with gravy and squash panzanella alongside.\n",
      "\n",
      "\n",
      "\n",
      "\n",
      "\n"
     ]
    },
    {
     "data": {
      "image/png": "[encoded data removed]",
      "text/plain": [
       "<PIL.PngImagePlugin.PngImageFile image mode=P size=348x331>"
      ]
     },
     "metadata": {},
     "output_type": "display_data"
    },
    {
     "name": "stdout",
     "output_type": "stream",
     "text": [
      "\n",
      "\n",
      "Title: Sunny Side Burger with Salsa Verde\n",
      "\n",
      "\n",
      "Ingredients: \n",
      "['1 lb. tomatillos, husks removed, rinsed', '1 small onion, peeled, quartered', '3 jalapeños, sliced in half lengthwise', '1 Tbsp. extra-virgin olive oil', 'Kosher salt', '1 cup cilantro leaves with tender stems', '2 tsp. freshly ground black pepper', '20 oz. grass-fed ground beef (20% fat)', '4 Tbsp. extra-virgin olive oil, divided', 'Kosher salt, freshly ground pepper', '4 soft sesame seed buns, split', '4 large eggs']\n",
      "\n",
      "\n",
      "Instructions: \n",
      "Heat broiler. Toss tomatillos, onion, and jalapeños with oil on a foil-lined rimmed baking sheet; season with salt. Broil until blackened in spots and very soft, 12–15 minutes. Let vegetables cool slightly, then transfer to a food processor. Add cilantro and black pepper; pulse until coarsely chopped (3 or 4 pulses). Taste salsa verde and season with more salt if needed.\n",
      "Portion beef into 4 loosely packed balls (5 oz. each). Heat a large cast-iron skillet over medium-high until just beginning to smoke. Add 2 Tbsp. oil, then all 4 balls of meat. Firmly smash down on meat with a heavy metal spatula to create a craggy-edged 4\"-diameter patty; season with salt and pepper. Cook, undisturbed, until deeply charred underneath, about 3 minutes. Flip and season other side with salt and pepper; cook to medium, about 3 minutes. Transfer to a plate and let rest.\n",
      "Carefully wipe out skillet with a paper towel, leaving only a light coating of oil. Set skillet over medium heat. Working in 2 batches, toast buns, cut side down, until golden brown, about 1 minute. Transfer to a clean surface.\n",
      "Heat remaining 2 Tbsp. oil in a large nonstick skillet over medium. Crack eggs into skillet and cook until whites are just set and edges are crisp, about 4 minutes. Season with salt.\n",
      "Spread insides of both tops and bottoms of buns with a heaping tablespoonful of salsa verde. Place a burger on each bottom bun, top with an egg, sunny side up, and close burger.\n",
      "Salsa verde can be made 1 day ahead. Transfer to a small bowl; cover and chill.\n",
      "\n",
      "\n",
      "\n",
      "\n",
      "\n"
     ]
    },
    {
     "data": {
      "image/png": "[encoded data removed]",
      "text/plain": [
       "<PIL.PngImagePlugin.PngImageFile image mode=P size=348x331>"
      ]
     },
     "metadata": {},
     "output_type": "display_data"
    },
    {
     "name": "stdout",
     "output_type": "stream",
     "text": [
      "\n",
      "\n",
      "Title: Seared Scallops with Brown Butter and Lemon Pan Sauce\n",
      "\n",
      "\n",
      "Ingredients: \n",
      "['3 lemons', 'Small handful of chives', '12 large dry sea scallops', 'Kosher salt, freshly ground pepper', 'Extra-virgin olive oil or vegetable oil', '3 tablespoons unsalted butter, cut into pieces', '2 teaspoons drained capers']\n",
      "\n",
      "\n",
      "Instructions: \n",
      "Cut 2 lemons in half and squeeze juice into a measuring glass or small bowl; you should have 1/4 cup juice. Set aside. Using a paring knife, cut ends off remaining lemon to expose flesh. Upend lemon on a cut end and remove peel and white pith from lemons; discard. Cut between membranes to release segments into bowl with juice; squeeze membranes to get any last drops of juice. Fish out any seeds; set aside. Thinly slice chives and place in a small bowl; set aside.\n",
      "Pull side muscle off scallops, if needed; pat dry. Season lightly on both sides with salt and pepper. Heat a large skillet, preferably stainless steel, over medium-high. Pour in oil to lightly coat surface (2–3 Tbsp.); heat until it shimmers and you see first wisps of smoke. Swiftly place scallops into skillet, flat side down, and cook without touching, tossing, or fussing until underside is deep golden brown, 3–4 minutes. Use a thin spatula or tongs to gently turn over; if they resist, cook another 30 seconds and try again. Cook on second side until flesh at top and bottom looks opaque but there is still a faintly translucent strip in the middle, 1–2 minutes, depending on size. Transfer scallops to a plate.\n",
      "Pour off any oil in skillet and set over medium heat. Add butter and cook, swirling, until butter foams, then browns, about 2 minutes. Add reserved lemon juice and segments; energetically stir and swirl pan to emulsify sauce. Mix in capers and reserved chives and spoon pan sauce around and over scallops.\n",
      "\n",
      "\n",
      "\n",
      "\n",
      "\n"
     ]
    },
    {
     "data": {
      "image/png": "[encoded data removed]",
      "text/plain": [
       "<PIL.PngImagePlugin.PngImageFile image mode=P size=348x331>"
      ]
     },
     "metadata": {},
     "output_type": "display_data"
    },
    {
     "name": "stdout",
     "output_type": "stream",
     "text": [
      "\n",
      "\n",
      "Title: Zingy Red Sauce\n",
      "\n",
      "\n",
      "Ingredients: \n",
      "['2 garlic cloves', '1/2 cup chopped roasted red peppers from a jar (about 2)', '1/2 cup unsalted, roasted almonds', '2 tablespoons red wine vinegar', '1/4 cup extra-virgin olive oil', 'Kosher salt', 'freshly ground black pepper']\n",
      "\n",
      "\n",
      "Instructions: \n",
      "Purée 2 garlic cloves, 1/2 cup chopped roasted red peppers from a jar (about 2), 1/2 cup unsalted, roasted almonds, and 2 tablespoons red wine vinegar in a food processor until smooth. With motor running, add 1/4 cup extra-virgin olive oil and process until smooth; season with kosher salt, freshly ground black pepper, and more vinegar, if desired.\n",
      "DO AHEAD: Sauce can be made 2 days ahead. Cover and chill.\n",
      "\n",
      "\n",
      "\n",
      "\n",
      "\n"
     ]
    },
    {
     "data": {
      "image/png": "[encoded data removed]",
      "text/plain": [
       "<PIL.PngImagePlugin.PngImageFile image mode=P size=348x331>"
      ]
     },
     "metadata": {},
     "output_type": "display_data"
    },
    {
     "name": "stdout",
     "output_type": "stream",
     "text": [
      "\n",
      "\n",
      "Title: Perfectly Roasted Potatoes\n",
      "\n",
      "\n",
      "Ingredients: \n",
      "['2 pounds small Yukon gold potatoes', '1/4 cup olive oil', 'Kosher salt and freshly ground black pepper']\n",
      "\n",
      "\n",
      "Instructions: \n",
      "Place a rack in the lowest position in your oven and preheat to 425°F. Halve potatoes lengthwise.\n",
      "Arrange potatoes, cut side down, on a large rimmed baking sheet, spacing evenly. Pour in 1 1/2 to 2 cups water—enough to cover the surface in a thin layer but not so much that it spills the second you move the sheet.\n",
      "Cover baking sheet with a double layer of foil, crimping sides very tightly to seal well. This will trap in steam and prevent water from sloshing out if you accidentally jostle the sheet.\n",
      "Bake until a fork or a skewer slides easily through the potatoes, 25 to 30 minutes. The foil will be puffed; pierce it with the fork or skewer and poke around for a couple of potatoes to test.\n",
      "Let potatos cool, still covered, 5 minutes. Use tongs to peel back foil about 1 inch at on corner. Carefully tip sheet and pour off water (its job is done). Crank up oven to 500°F or as high as it goes.\n",
      "Remove foil. Drizzle olive oil over potatoes. Season generously with kosher salt and freshly ground pepper. Let potatoes cool to the point that you can handle them, then toss to coat.\n",
      "Arrange potatoes cut side down and roast, uncovered, until skins are golden, cut sides are deeply browned and crisp, and you can see the edges frying and sizzling in the oil on the sheet, 20–25 minutes.\n",
      "Let potatoes cool for a minute or two, then use a spatula to unstick them from the baking sheet. Serve them exactly as they are because these potatoes need absolutely nothing else.\n",
      "\n",
      "\n",
      "\n",
      "\n",
      "\n"
     ]
    }
   ],
   "source": [
    "# Print the recommended dishes with instructions, image names, and original dataset index\n",
    "print(\"Top 5 Recommended Dishes:\")\n",
    "for i, (index, row) in enumerate(recommended_dishes.iterrows(), start=1):\n",
    "    title = row['Title']\n",
    "    instructions = row['Instructions']\n",
    "    image_name = data['Image_Name'][index]  # Use the correct column name 'Image_Name'\n",
    "    original_index = index  # Get the original dataset index\n",
    "    ingredients = data['Cleaned_Ingredients'][index]  # Get the ingredients from 'Cleaned_Ingredients'\n",
    "    \n",
    "    # Load and display the image\n",
    "    image_path = f\"flower.png\"  # Update the path to your image folder\n",
    "    img = Image.open(image_path)\n",
    "    display.display(img)\n",
    "    \n",
    "    print(\"\\n\")\n",
    "    print(f\"Title: {title}\")\n",
    "    print(\"\\n\")\n",
    "    print(f\"Ingredients: \\n{ingredients}\")\n",
    "    print(\"\\n\")\n",
    "    print(f\"Instructions: \\n{instructions}\\n\")\n",
    "    print(\"\\n\")\n",
    "    print(\"\\n\")\n"
   ]
  },
  {
   "cell_type": "code",
   "execution_count": 59,
   "id": "717aa707",
   "metadata": {},
   "outputs": [],
   "source": [
    "import pickle\n",
    "pickle.dump(data.to_dict(), open('IngBasedRecom.pkl', 'wb'))"
   ]
  },
  {
   "cell_type": "code",
   "execution_count": 60,
   "id": "b195833d",
   "metadata": {},
   "outputs": [],
   "source": [
    "pickle.dump(similarity, open('IngBasedRecomSimilarity.pkl', 'wb'))"
   ]
  },
  {
   "cell_type": "code",
   "execution_count": null,
   "id": "4651a672",
   "metadata": {},
   "outputs": [],
   "source": []
  },
  {
   "cell_type": "code",
   "execution_count": null,
   "id": "b04b5047",
   "metadata": {},
   "outputs": [],
   "source": []
  }
 ],
 "metadata": {
  "kernelspec": {
   "display_name": "Python 3 (ipykernel)",
   "language": "python",
   "name": "python3"
  },
  "language_info": {
   "codemirror_mode": {
    "name": "ipython",
    "version": 3
   },
   "file_extension": ".py",
   "mimetype": "text/x-python",
   "name": "python",
   "nbconvert_exporter": "python",
   "pygments_lexer": "ipython3",
   "version": "3.12.3"
  }
 },
 "nbformat": 4,
 "nbformat_minor": 5
}
